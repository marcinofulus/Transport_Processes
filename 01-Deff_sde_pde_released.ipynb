{
 "cells": [
  {
   "cell_type": "markdown",
   "metadata": {},
   "source": [
    "# Giant Diffusion in Tilted Periodic Potentials"
   ]
  },
  {
   "cell_type": "markdown",
   "metadata": {
    "lang": "en"
   },
   "source": [
    "## Introduction\n",
    "\n",
    "Consider the overdamped motion of particle in the one dimensional  periodic potential after the influence of a constant force, described by the following Langevien equation:\n",
    "\n",
    "$$ \\dot x = f(x) + \\sqrt{2D}\\xi(t),$$\n",
    "\n",
    "where:\n",
    "\n",
    " - $f(x) = -U'(x)$ and the potential is $U(x) = \\sin(x) - F x$\n",
    " - $xi(t)$ - white Gaussian noise with mean zero and $<\\xi(t)\\xi(s)>=\\delta(t-s)$ correlation function\n",
    " - $D$ is the thermal diffusion of $D=kT/\\gamma$ (in this case we have $\\gamma=1$)\n",
    "\n",
    "We want to obtain an effective coarse grained coefficient\n",
    "\n",
    "$$D_{eff} =  \\lim_{t\\to\\infty} \\frac{\\langle (x(t) - m(t))^2 \\rangle}{t}$$\n",
    "\n",
    "where:\n",
    "\n",
    " - $m(t) = \\langle x(t) \\rangle$\n",
    " - averaging is over the realization of the system (trajectories)\n",
    " \n",
    "This system shows the phenomenons of $D_{eff}$ growth in the $D\\to0$ boundary\n",
    "\n",
    "https://journals.aps.org/prl/abstract/10.1103/PhysRevLett.87.010602\n",
    "\n",
    "## Problems\n",
    "\n",
    "1. Implement the Euler-Maruyama scheme [link](https://el.us.edu.pl/ekonofizyka/index.php/MKZR:Stochastyczne_r%C3%B3wnania_r%C3%B3%C5%BCniczkowe) for the above stochastic equation for CUDA.\n",
    "\n",
    "2. Implement a scheme based on finite differences and explicit integration in time solving the Fokker-Planck equation for CUDA.\n",
    "\n",
    "3. Recreate, for example, Figure 1 from [PhysRevLett.87.010602] (https://journals.aps.org/prl/abstract/10.1103/PhysRevLett.87.010602) for each method."
   ]
  },
  {
   "cell_type": "code",
   "execution_count": null,
   "metadata": {},
   "outputs": [],
   "source": [
    "%matplotlib inline \n",
    "import numpy as np\n",
    "import matplotlib.pyplot as plt\n",
    "import sympy\n",
    "import time "
   ]
  },
  {
   "cell_type": "code",
   "execution_count": null,
   "metadata": {},
   "outputs": [],
   "source": [
    "from sympy.codegen.ast import real, float32, float64\n",
    "from sympy.codegen.ast import Declaration, Variable, Pointer\n",
    "\n",
    "var = lambda x,p:sympy.ccode(Declaration(Variable(sympy.Symbol(x), type=p)) )\n",
    "pvar = lambda x,p:sympy.ccode(Declaration(Pointer(sympy.Symbol(x), type=p)) )"
   ]
  },
  {
   "cell_type": "code",
   "execution_count": null,
   "metadata": {},
   "outputs": [],
   "source": [
    "precision = float32\n",
    "\n",
    "if precision == float64:\n",
    "    np_prec = np.float64\n",
    "\n",
    "if precision == float32:\n",
    "    np_prec = np.float32\n",
    "\n",
    "\n",
    "def make_U_f(precision=float32):\n",
    "    x = sympy.Symbol('x')\n",
    "    U = sympy.sin(x) - 1.*x\n",
    "\n",
    "    f = -sympy.diff(U, x, 1) \n",
    "    \n",
    "    U_lamb = sympy.lambdify([x, ], U, 'numpy')\n",
    "    f_lamb = sympy.lambdify([x, ], f, 'numpy')\n",
    "    \n",
    "    f_code = sympy.ccode(f,type_aliases={real: precision})\n",
    "\n",
    "\n",
    "    \n",
    "    return U_lamb,f_lamb,f_code,var(\"\",precision),pvar(\"\",precision)\n",
    "\n",
    "U, f, f_code,fp,pfp = make_U_f(precision=precision)\n",
    "x = np.linspace(-7,7,100)\n",
    "plt.figure()\n",
    "plt.plot(x,U(x))\n",
    "plt.show()\n",
    "print(f_code,fp,pfp)"
   ]
  },
  {
   "cell_type": "code",
   "execution_count": null,
   "metadata": {},
   "outputs": [],
   "source": [
    "print(f_code,fp,pfp)"
   ]
  },
  {
   "cell_type": "code",
   "execution_count": null,
   "metadata": {},
   "outputs": [],
   "source": [
    "print(f([1,2,3]))"
   ]
  },
  {
   "cell_type": "markdown",
   "metadata": {
    "lang": "en"
   },
   "source": [
    "## Langevin equation"
   ]
  },
  {
   "cell_type": "code",
   "execution_count": null,
   "metadata": {},
   "outputs": [],
   "source": [
    "N = 12800\n",
    "nsteps = 50000\n",
    "dt = 0.005\n",
    "Dyf = 0.01\n",
    "a = np.sqrt(2*Dyf*dt)\n",
    "x = np.zeros(N)"
   ]
  },
  {
   "cell_type": "code",
   "execution_count": null,
   "metadata": {},
   "outputs": [],
   "source": [
    "cpu_t = time.time()\n",
    "for i in range(nsteps):\n",
    "    x += f(x)*dt + a*np.random.randn(N)\n",
    "cpu_t = time.time() - cpu_t\n",
    "\n",
    "print( cpu_t, (N*nsteps)/cpu_t/1000**2,\" M iterations/sek\" )\n",
    "dt_mc = dt"
   ]
  },
  {
   "cell_type": "markdown",
   "metadata": {
    "lang": "en"
   },
   "source": [
    "## Fokker-Planck equation"
   ]
  },
  {
   "cell_type": "code",
   "execution_count": null,
   "metadata": {},
   "outputs": [],
   "source": [
    "import time\n",
    "import numpy as np\n",
    "\n",
    "x1,x2 = -2*np.pi,30*np.pi\n",
    "\n",
    "s = int((x2-x1)/(2*np.pi))\n",
    "N = s*250  # space discretization\n",
    "h = (x2-x1)/(N-1) \n",
    " \n",
    "total_t = nsteps*dt # from prev. sim!\n",
    "\n",
    "Nsteps = 1000*int(total_t)\n",
    "\n",
    "X = np.linspace(x1, x2, N+1)[:-1]\n",
    "t = np.linspace(0,total_t,Nsteps)\n",
    "dt = t[1] - t[0]\n",
    "\n",
    "print( \"N =\",N,\"dt =\",dt,'Nsteps =',Nsteps)\n",
    "\n",
    "F = f(X)\n",
    "u = np.zeros(N)\n",
    "i0 = np.where(np.isclose(X,0))[0][0]\n",
    "u[i0:i0+1] = 1.0/h\n",
    "every = 100\n",
    "Tlst = []\n",
    "\n",
    "tm = time.time()\n",
    "for i in range(Nsteps):\n",
    "    At = 1.0\n",
    "    if i%every == 0:\n",
    "        Tlst.append(u.copy())\n",
    " \n",
    "    u[1:-1] = u[1:-1] + dt*( -np.gradient(F*u)[1:-1]/h + Dyf/h**2*np.diff(u,2))\n",
    "\n",
    "    #u[0] =  u[0] + dt*(-At*(F[1]*u[1]-F[-1]*u[-1])/(2*h) + Dyf/h**2*(u[-1]+u[1]-2.0*u[0]) )\n",
    "    #u[-1] =  u[-1] + dt*(-At*(F[0]*u[0]-F[-2]*u[-2])/(2*h) + Dyf/h**2*(u[-2]+u[0]-2.0*u[-1]) )\n",
    "\n",
    "tm = time.time()-tm\n",
    "print (\"Saved \",len(Tlst), \" from \", Nsteps, \"h= \",h)\n",
    "\n",
    "print( tm,\"s\")"
   ]
  },
  {
   "cell_type": "markdown",
   "metadata": {},
   "source": [
    "Now we can compute histograms of particle positions:"
   ]
  },
  {
   "cell_type": "code",
   "execution_count": null,
   "metadata": {},
   "outputs": [],
   "source": [
    "hist_cpu,xs = np.histogram(x, np.linspace(0,100,1300), normed=True)\n",
    "xs = (xs[1:]+xs[:-1])/2"
   ]
  },
  {
   "cell_type": "code",
   "execution_count": null,
   "metadata": {},
   "outputs": [],
   "source": [
    "plt.figure(figsize=(12,4))\n",
    "\n",
    "plt.plot(X,u)\n",
    "plt.plot(xs,hist_cpu)\n",
    "plt.ylim(0,.4)\n",
    "\n",
    "ax = plt.gca()\n",
    "fig = plt.gcf()\n",
    "import matplotlib.ticker as tck\n",
    "ax.xaxis.set_minor_locator(tck.MultipleLocator(base=np.pi))\n",
    "ax.xaxis.set_major_locator(tck.MultipleLocator(base=2*np.pi))\n",
    "ax.xaxis.set_major_formatter(tck.FuncFormatter(lambda x,pos: '%g $\\pi$'%(x/(np.pi))))\n",
    "plt.show()"
   ]
  },
  {
   "cell_type": "markdown",
   "metadata": {
    "lang": "en"
   },
   "source": [
    "### Results:\n",
    "\n",
    "Averages calculated from the $P(x)$ (`u`) distribution:"
   ]
  },
  {
   "cell_type": "code",
   "execution_count": null,
   "metadata": {},
   "outputs": [],
   "source": [
    "print ('t=',dt*Nsteps,\"v =\", np.sum(X*u)*h/(dt*Nsteps), \"  Deff =\",(h*np.sum((X-np.sum(X*u)*h)**2*u))/(2*dt*Nsteps) )"
   ]
  },
  {
   "cell_type": "markdown",
   "metadata": {
    "lang": "en"
   },
   "source": [
    "Means after particles from the simulation of Langenvin equation:"
   ]
  },
  {
   "cell_type": "code",
   "execution_count": null,
   "metadata": {},
   "outputs": [],
   "source": [
    "print('t=',nsteps*dt_mc,\"v =\", np.mean(x)/(nsteps*dt_mc), \"  Deff =\",np.var(x)/(2*nsteps*dt_mc))"
   ]
  },
  {
   "cell_type": "markdown",
   "metadata": {
    "lang": "en"
   },
   "source": [
    "## How to implement  SDE on CUDA"
   ]
  },
  {
   "cell_type": "code",
   "execution_count": null,
   "metadata": {},
   "outputs": [],
   "source": [
    "import numpy as np\n",
    "from pycuda.compiler import SourceModule\n",
    "from pycuda import gpuarray\n",
    "import pycuda.driver as cuda\n",
    "import pycuda \n",
    "\n",
    "cuda.init()\n",
    "device = cuda.Device(0)\n",
    "ctx = device.make_context()\n",
    "\n",
    "code = \"\"\"\n",
    "#include <curand_kernel.h>\n",
    "\n",
    "extern \"C\" {\n",
    "    __global__ void setup_kernel(curandState *state)\n",
    "    {\n",
    "        int id = threadIdx.x + blockIdx.x * blockDim.x;\n",
    "        curand_init(1234, id, 0, &state[id]);\n",
    "    }\n",
    "\n",
    "\n",
    "__global__ void step_sde(curandState *state, %(pf)s x_global)\n",
    "    {\n",
    "        int idx = threadIdx.x + blockIdx.x * blockDim.x;\n",
    "        %(f)s x = x_global[idx];\n",
    "        curandState localState = state[idx];\n",
    "       \n",
    "       \n",
    "        x =  curand_normal(&localState);  \n",
    "        \n",
    "        state[idx] = localState;\n",
    "        x_global[idx] = x;\n",
    "}\n",
    "\n",
    "\n",
    "}\n",
    "\"\"\"%{'fx':f_code,'dt':dt,'f':fp,'pf':pfp}\n",
    "block_size = 128\n",
    "N = 1000*block_size\n",
    "mod = SourceModule(code, no_extern_c=True)\n",
    "\n",
    "setup_kernel = mod.get_function(\"setup_kernel\")\n",
    "step_sde = mod.get_function(\"step_sde\")\n",
    "print(code)"
   ]
  },
  {
   "cell_type": "code",
   "execution_count": null,
   "metadata": {},
   "outputs": [],
   "source": [
    "# 7s for 1mln generators \n",
    "rng_states = cuda.mem_alloc(N*pycuda.characterize.sizeof('curandState', '#include <curand_kernel.h>'))\n",
    "setup_kernel(rng_states, block=(block_size,1,1), grid=(N//block_size,1))\n",
    "%time ctx.synchronize()"
   ]
  },
  {
   "cell_type": "code",
   "execution_count": null,
   "metadata": {},
   "outputs": [],
   "source": [
    "x = gpuarray.zeros(N, dtype=np_prec)"
   ]
  },
  {
   "cell_type": "code",
   "execution_count": null,
   "metadata": {},
   "outputs": [],
   "source": [
    "x.dtype"
   ]
  },
  {
   "cell_type": "code",
   "execution_count": null,
   "metadata": {},
   "outputs": [],
   "source": [
    "step_sde(rng_states,  x, block=(block_size,1,1), grid=(N//block_size,1,1))\n",
    "%time ctx.synchronize()\n"
   ]
  },
  {
   "cell_type": "code",
   "execution_count": null,
   "metadata": {},
   "outputs": [],
   "source": [
    "x.get()[:6]"
   ]
  },
  {
   "cell_type": "code",
   "execution_count": null,
   "metadata": {},
   "outputs": [],
   "source": [
    "plt.figure()\n",
    "plt.hist(x.get(),bins=200)\n",
    "plt.show()"
   ]
  },
  {
   "cell_type": "markdown",
   "metadata": {},
   "source": [
    "\\newpage"
   ]
  }
 ],
 "metadata": {
  "kernelspec": {
   "display_name": "Python 3",
   "language": "python",
   "name": "python3"
  },
  "language_info": {
   "codemirror_mode": {
    "name": "ipython",
    "version": 3
   },
   "file_extension": ".py",
   "mimetype": "text/x-python",
   "name": "python",
   "nbconvert_exporter": "python",
   "pygments_lexer": "ipython3",
   "version": "3.6.7"
  },
  "nbTranslate": {
   "displayLangs": [
    "en",
    "pl"
   ],
   "hotkey": "alt-t",
   "langInMainMenu": true,
   "sourceLang": "pl",
   "targetLang": "en",
   "useGoogleTranslate": true
  }
 },
 "nbformat": 4,
 "nbformat_minor": 2
}
