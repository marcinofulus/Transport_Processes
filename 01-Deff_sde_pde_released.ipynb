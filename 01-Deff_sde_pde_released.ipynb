{
  "nbformat": 4,
  "nbformat_minor": 0,
  "metadata": {
    "kernelspec": {
      "name": "python3",
      "display_name": "Python 3"
    },
    "language_info": {
      "codemirror_mode": {
        "name": "ipython",
        "version": 3
      },
      "file_extension": ".py",
      "mimetype": "text/x-python",
      "name": "python",
      "nbconvert_exporter": "python",
      "pygments_lexer": "ipython3",
      "version": "3.6.7"
    },
    "nbTranslate": {
      "displayLangs": [
        "en",
        "pl"
      ],
      "hotkey": "alt-t",
      "langInMainMenu": true,
      "sourceLang": "pl",
      "targetLang": "en",
      "useGoogleTranslate": true
    },
    "colab": {
      "name": "01-Deff_sde_pde_released.ipynb",
      "version": "0.3.2",
      "provenance": []
    },
    "accelerator": "GPU"
  },
  "cells": [
    {
      "cell_type": "markdown",
      "metadata": {
        "id": "ZSd5UbrfQI1J",
        "colab_type": "text"
      },
      "source": [
        "# Giant Diffusion in Tilted Periodic Potentials"
      ]
    },
    {
      "cell_type": "markdown",
      "metadata": {
        "lang": "en",
        "id": "BD0THrS9QI1L",
        "colab_type": "text"
      },
      "source": [
        "## Introduction\n",
        "\n",
        "Consider the overdamped motion of particle in the one dimensional  periodic potential after the influence of a constant force, described by the following Langevien equation:\n",
        "\n",
        "$$ \\dot x = f(x) + \\sqrt{2D}\\xi(t),$$\n",
        "\n",
        "where:\n",
        "\n",
        " - $f(x) = -U'(x)$ and the potential is $U(x) = \\sin(x) - F x$\n",
        " - $xi(t)$ - white Gaussian noise with mean zero and $<\\xi(t)\\xi(s)>=\\delta(t-s)$ correlation function\n",
        " - $D$ is the thermal diffusion of $D=kT/\\gamma$ (in this case we have $\\gamma=1$)\n",
        "\n",
        "We want to obtain an effective coarse grained coefficient\n",
        "\n",
        "$$D_{eff} =  \\lim_{t\\to\\infty} \\frac{\\langle (x(t) - m(t))^2 \\rangle}{t}$$\n",
        "\n",
        "where:\n",
        "\n",
        " - $m(t) = \\langle x(t) \\rangle$\n",
        " - averaging is over the realization of the system (trajectories)\n",
        " \n",
        "This system shows the phenomenons of $D_{eff}$ growth in the $D\\to0$ boundary\n",
        "\n",
        "https://journals.aps.org/prl/abstract/10.1103/PhysRevLett.87.010602\n",
        "\n",
        "## Problems\n",
        "\n",
        "1. Implement the Euler-Maruyama scheme [link](https://el.us.edu.pl/ekonofizyka/index.php/MKZR:Stochastyczne_r%C3%B3wnania_r%C3%B3%C5%BCniczkowe) for the above stochastic equation for CUDA.\n",
        "\n",
        "2. Implement a scheme based on finite differences and explicit integration in time solving the Fokker-Planck equation for CUDA.\n",
        "\n",
        "3. Recreate, for example, Figure 1 from [PhysRevLett.87.010602] (https://journals.aps.org/prl/abstract/10.1103/PhysRevLett.87.010602) for each method."
      ]
    },
    {
      "cell_type": "code",
      "metadata": {
        "id": "Evw7lw_rQI1M",
        "colab_type": "code",
        "colab": {}
      },
      "source": [
        "%matplotlib inline \n",
        "import numpy as np\n",
        "import matplotlib.pyplot as plt\n",
        "import sympy\n",
        "import time "
      ],
      "execution_count": 0,
      "outputs": []
    },
    {
      "cell_type": "code",
      "metadata": {
        "id": "HQBNufVJQVtU",
        "colab_type": "code",
        "colab": {
          "base_uri": "https://localhost:8080/",
          "height": 752
        },
        "outputId": "8801dad3-5d54-44af-9bea-1e419892b6d2"
      },
      "source": [
        "!pip install --upgrade sympy\n",
        "!pip install pycuda"
      ],
      "execution_count": 2,
      "outputs": [
        {
          "output_type": "stream",
          "text": [
            "Collecting sympy\n",
            "\u001b[?25l  Downloading https://files.pythonhosted.org/packages/21/21/f4105795ca7f35c541d82c5b06be684dd2f5cb4f508fb487cd7aea4de776/sympy-1.4-py2.py3-none-any.whl (5.3MB)\n",
            "\u001b[K     |████████████████████████████████| 5.3MB 50.0MB/s \n",
            "\u001b[?25hRequirement already satisfied, skipping upgrade: mpmath>=0.19 in /usr/local/lib/python3.6/dist-packages (from sympy) (1.1.0)\n",
            "Installing collected packages: sympy\n",
            "  Found existing installation: sympy 1.1.1\n",
            "    Uninstalling sympy-1.1.1:\n",
            "      Successfully uninstalled sympy-1.1.1\n",
            "Successfully installed sympy-1.4\n"
          ],
          "name": "stdout"
        },
        {
          "output_type": "display_data",
          "data": {
            "application/vnd.colab-display-data+json": {
              "pip_warning": {
                "packages": [
                  "sympy"
                ]
              }
            }
          },
          "metadata": {
            "tags": []
          }
        },
        {
          "output_type": "stream",
          "text": [
            "Collecting pycuda\n",
            "\u001b[?25l  Downloading https://files.pythonhosted.org/packages/5e/3f/5658c38579b41866ba21ee1b5020b8225cec86fe717e4b1c5c972de0a33c/pycuda-2019.1.2.tar.gz (1.6MB)\n",
            "\u001b[K     |████████████████████████████████| 1.6MB 52.8MB/s \n",
            "\u001b[?25hCollecting pytools>=2011.2 (from pycuda)\n",
            "\u001b[?25l  Downloading https://files.pythonhosted.org/packages/00/96/00416762a3eda8876a17d007df4a946f46b2e4ee1057e0b9714926472ef8/pytools-2019.1.1.tar.gz (58kB)\n",
            "\u001b[K     |████████████████████████████████| 61kB 30.6MB/s \n",
            "\u001b[?25hRequirement already satisfied: decorator>=3.2.0 in /usr/local/lib/python3.6/dist-packages (from pycuda) (4.4.0)\n",
            "Collecting appdirs>=1.4.0 (from pycuda)\n",
            "  Downloading https://files.pythonhosted.org/packages/56/eb/810e700ed1349edde4cbdc1b2a21e28cdf115f9faf263f6bbf8447c1abf3/appdirs-1.4.3-py2.py3-none-any.whl\n",
            "Collecting mako (from pycuda)\n",
            "\u001b[?25l  Downloading https://files.pythonhosted.org/packages/b0/3c/8dcd6883d009f7cae0f3157fb53e9afb05a0d3d33b3db1268ec2e6f4a56b/Mako-1.1.0.tar.gz (463kB)\n",
            "\u001b[K     |████████████████████████████████| 471kB 50.0MB/s \n",
            "\u001b[?25hRequirement already satisfied: six>=1.8.0 in /usr/local/lib/python3.6/dist-packages (from pytools>=2011.2->pycuda) (1.12.0)\n",
            "Requirement already satisfied: numpy>=1.6.0 in /usr/local/lib/python3.6/dist-packages (from pytools>=2011.2->pycuda) (1.16.4)\n",
            "Requirement already satisfied: MarkupSafe>=0.9.2 in /usr/local/lib/python3.6/dist-packages (from mako->pycuda) (1.1.1)\n",
            "Building wheels for collected packages: pycuda, pytools, mako\n",
            "  Building wheel for pycuda (setup.py) ... \u001b[?25l\u001b[?25hdone\n",
            "  Created wheel for pycuda: filename=pycuda-2019.1.2-cp36-cp36m-linux_x86_64.whl size=4534407 sha256=838b74dc2a717f8b7791066ffcc8396f8bf94d9c1cdd65c5eaef3792cd151df2\n",
            "  Stored in directory: /root/.cache/pip/wheels/a6/60/f0/b1c430c73d281ac3e46070480db50f7907364eb6f6d3188396\n",
            "  Building wheel for pytools (setup.py) ... \u001b[?25l\u001b[?25hdone\n",
            "  Created wheel for pytools: filename=pytools-2019.1.1-py2.py3-none-any.whl size=58424 sha256=c7ba098c58b43217efba3e1e5d1dc12b02ad0c532cc11f197bd69a21227e9607\n",
            "  Stored in directory: /root/.cache/pip/wheels/83/df/0b/75ac4572aaa93e3eba6a58472635d0fda907f5f4cf884a3a0c\n",
            "  Building wheel for mako (setup.py) ... \u001b[?25l\u001b[?25hdone\n",
            "  Created wheel for mako: filename=Mako-1.1.0-cp36-none-any.whl size=75363 sha256=12d3214c784a66210f4ba546b6e24e542769807a144b560c511b68fc5db82382\n",
            "  Stored in directory: /root/.cache/pip/wheels/98/32/7b/a291926643fc1d1e02593e0d9e247c5a866a366b8343b7aa27\n",
            "Successfully built pycuda pytools mako\n",
            "Installing collected packages: appdirs, pytools, mako, pycuda\n",
            "Successfully installed appdirs-1.4.3 mako-1.1.0 pycuda-2019.1.2 pytools-2019.1.1\n"
          ],
          "name": "stdout"
        }
      ]
    },
    {
      "cell_type": "code",
      "metadata": {
        "id": "Y4zUt9YyQI1P",
        "colab_type": "code",
        "colab": {}
      },
      "source": [
        "from sympy.codegen.ast import real, float32, float64\n",
        "from sympy.codegen.ast import Declaration, Variable, Pointer\n",
        "\n",
        "var = lambda x,p:sympy.ccode(Declaration(Variable(sympy.Symbol(x), type=p)) )\n",
        "pvar = lambda x,p:sympy.ccode(Declaration(Pointer(sympy.Symbol(x), type=p)) )"
      ],
      "execution_count": 0,
      "outputs": []
    },
    {
      "cell_type": "code",
      "metadata": {
        "id": "WO9RrUEvQI1R",
        "colab_type": "code",
        "colab": {
          "base_uri": "https://localhost:8080/",
          "height": 286
        },
        "outputId": "a7aa7700-9dc5-40d1-f066-6d860821b133"
      },
      "source": [
        "precision = float32\n",
        "\n",
        "if precision == float64:\n",
        "    np_prec = np.float64\n",
        "\n",
        "if precision == float32:\n",
        "    np_prec = np.float32\n",
        "\n",
        "\n",
        "def make_U_f(precision=float32):\n",
        "    x = sympy.Symbol('x')\n",
        "    U = sympy.sin(x) - 1.*x\n",
        "\n",
        "    f = -sympy.diff(U, x, 1) \n",
        "    \n",
        "    U_lamb = sympy.lambdify([x, ], U, 'numpy')\n",
        "    f_lamb = sympy.lambdify([x, ], f, 'numpy')\n",
        "    \n",
        "    f_code = sympy.ccode(f,type_aliases={real: precision})\n",
        "\n",
        "\n",
        "    \n",
        "    return U_lamb,f_lamb,f_code,var(\"\",precision),pvar(\"\",precision)\n",
        "\n",
        "U, f, f_code,fp,pfp = make_U_f(precision=precision)\n",
        "x = np.linspace(-7,7,100)\n",
        "plt.figure()\n",
        "plt.plot(x,U(x))\n",
        "plt.show()\n",
        "print(f_code,fp,pfp)"
      ],
      "execution_count": 4,
      "outputs": [
        {
          "output_type": "display_data",
          "data": {
            "image/png": "[encoded data removed]",
            "text/plain": [
              "<Figure size 432x288 with 1 Axes>"
            ]
          },
          "metadata": {
            "tags": []
          }
        },
        {
          "output_type": "stream",
          "text": [
            "1.0F - cosf(x) float  float * \n"
          ],
          "name": "stdout"
        }
      ]
    },
    {
      "cell_type": "code",
      "metadata": {
        "id": "5AKo5BtwQI1T",
        "colab_type": "code",
        "colab": {
          "base_uri": "https://localhost:8080/",
          "height": 34
        },
        "outputId": "50a44171-7f9f-4cad-b738-c6cb93e42821"
      },
      "source": [
        "print(f_code,fp,pfp)"
      ],
      "execution_count": 5,
      "outputs": [
        {
          "output_type": "stream",
          "text": [
            "1.0F - cosf(x) float  float * \n"
          ],
          "name": "stdout"
        }
      ]
    },
    {
      "cell_type": "code",
      "metadata": {
        "id": "8QUyhcb1QI1V",
        "colab_type": "code",
        "colab": {
          "base_uri": "https://localhost:8080/",
          "height": 34
        },
        "outputId": "e0d2f73e-08a0-45d3-e5c3-ad8778b339b4"
      },
      "source": [
        "print(f([1,2,3]))"
      ],
      "execution_count": 6,
      "outputs": [
        {
          "output_type": "stream",
          "text": [
            "[0.45969769 1.41614684 1.9899925 ]\n"
          ],
          "name": "stdout"
        }
      ]
    },
    {
      "cell_type": "markdown",
      "metadata": {
        "lang": "en",
        "id": "yQL1oinvQI1X",
        "colab_type": "text"
      },
      "source": [
        "## Langevin equation"
      ]
    },
    {
      "cell_type": "code",
      "metadata": {
        "id": "Rw8Y_J8XQI1Y",
        "colab_type": "code",
        "colab": {}
      },
      "source": [
        "N = 12800\n",
        "nsteps = 50000\n",
        "dt = 0.005\n",
        "Dyf = 0.01\n",
        "a = np.sqrt(2*Dyf*dt)\n",
        "x = np.zeros(N)"
      ],
      "execution_count": 0,
      "outputs": []
    },
    {
      "cell_type": "code",
      "metadata": {
        "id": "7f7UkoTFQI1a",
        "colab_type": "code",
        "colab": {
          "base_uri": "https://localhost:8080/",
          "height": 34
        },
        "outputId": "881790bb-0aa9-4ff5-8e96-3460cdf8a3ee"
      },
      "source": [
        "cpu_t = time.time()\n",
        "for i in range(nsteps):\n",
        "    x += f(x)*dt + a*np.random.randn(N)\n",
        "cpu_t = time.time() - cpu_t\n",
        "\n",
        "print( cpu_t, (N*nsteps)/cpu_t/1000**2,\" M iterations/sek\" )\n",
        "dt_mc = dt"
      ],
      "execution_count": 8,
      "outputs": [
        {
          "output_type": "stream",
          "text": [
            "41.19976472854614 15.534069289394807  M iterations/sek\n"
          ],
          "name": "stdout"
        }
      ]
    },
    {
      "cell_type": "markdown",
      "metadata": {
        "lang": "en",
        "id": "0rdCWc5uQI1d",
        "colab_type": "text"
      },
      "source": [
        "## Fokker-Planck equation"
      ]
    },
    {
      "cell_type": "code",
      "metadata": {
        "id": "d6C2aayIQI1d",
        "colab_type": "code",
        "colab": {
          "base_uri": "https://localhost:8080/",
          "height": 68
        },
        "outputId": "03955e15-579d-4638-fa41-b277cc8fdfbf"
      },
      "source": [
        "import time\n",
        "import numpy as np\n",
        "\n",
        "x1,x2 = -2*np.pi,30*np.pi\n",
        "\n",
        "s = int((x2-x1)/(2*np.pi))\n",
        "N = s*250  # space discretization\n",
        "h = (x2-x1)/(N-1) \n",
        " \n",
        "total_t = nsteps*dt # from prev. sim!\n",
        "\n",
        "Nsteps = 1000*int(total_t)\n",
        "\n",
        "X = np.linspace(x1, x2, N+1)[:-1]\n",
        "t = np.linspace(0,total_t,Nsteps)\n",
        "dt = t[1] - t[0]\n",
        "\n",
        "print( \"N =\",N,\"dt =\",dt,'Nsteps =',Nsteps)\n",
        "\n",
        "F = f(X)\n",
        "u = np.zeros(N)\n",
        "i0 = np.where(np.isclose(X,0))[0][0]\n",
        "u[i0:i0+1] = 1.0/h\n",
        "every = 100\n",
        "Tlst = []\n",
        "\n",
        "tm = time.time()\n",
        "for i in range(Nsteps):\n",
        "    At = 1.0\n",
        "    if i%every == 0:\n",
        "        Tlst.append(u.copy())\n",
        " \n",
        "    u[1:-1] = u[1:-1] + dt*( -np.gradient(F*u)[1:-1]/h + Dyf/h**2*np.diff(u,2))\n",
        "\n",
        "    #u[0] =  u[0] + dt*(-At*(F[1]*u[1]-F[-1]*u[-1])/(2*h) + Dyf/h**2*(u[-1]+u[1]-2.0*u[0]) )\n",
        "    #u[-1] =  u[-1] + dt*(-At*(F[0]*u[0]-F[-2]*u[-2])/(2*h) + Dyf/h**2*(u[-2]+u[0]-2.0*u[-1]) )\n",
        "\n",
        "tm = time.time()-tm\n",
        "print (\"Saved \",len(Tlst), \" from \", Nsteps, \"h= \",h)\n",
        "\n",
        "print( tm,\"s\")"
      ],
      "execution_count": 9,
      "outputs": [
        {
          "output_type": "stream",
          "text": [
            "N = 4000 dt = 0.001000004000016 Nsteps = 250000\n",
            "Saved  2500  from  250000 h=  0.02513902598521465\n",
            "11.779420137405396 s\n"
          ],
          "name": "stdout"
        }
      ]
    },
    {
      "cell_type": "markdown",
      "metadata": {
        "id": "j-2QdjGfQI1g",
        "colab_type": "text"
      },
      "source": [
        "Now we can compute histograms of particle positions:"
      ]
    },
    {
      "cell_type": "code",
      "metadata": {
        "id": "lNlYjRB-QI1h",
        "colab_type": "code",
        "colab": {
          "base_uri": "https://localhost:8080/",
          "height": 71
        },
        "outputId": "23d55215-bf00-4e5c-f143-632de438c364"
      },
      "source": [
        "hist_cpu,xs = np.histogram(x, np.linspace(0,100,1300), normed=True)\n",
        "xs = (xs[1:]+xs[:-1])/2"
      ],
      "execution_count": 10,
      "outputs": [
        {
          "output_type": "stream",
          "text": [
            "/usr/local/lib/python3.6/dist-packages/ipykernel_launcher.py:1: VisibleDeprecationWarning: Passing `normed=True` on non-uniform bins has always been broken, and computes neither the probability density function nor the probability mass function. The result is only correct if the bins are uniform, when density=True will produce the same result anyway. The argument will be removed in a future version of numpy.\n",
            "  \"\"\"Entry point for launching an IPython kernel.\n"
          ],
          "name": "stderr"
        }
      ]
    },
    {
      "cell_type": "code",
      "metadata": {
        "id": "kyQfQCjTQI1j",
        "colab_type": "code",
        "colab": {
          "base_uri": "https://localhost:8080/",
          "height": 271
        },
        "outputId": "9b3f85db-2764-469d-b4f0-03d70f109f5c"
      },
      "source": [
        "plt.figure(figsize=(12,4))\n",
        "\n",
        "plt.plot(X,u)\n",
        "plt.plot(xs,hist_cpu)\n",
        "plt.ylim(0,.4)\n",
        "\n",
        "ax = plt.gca()\n",
        "fig = plt.gcf()\n",
        "import matplotlib.ticker as tck\n",
        "ax.xaxis.set_minor_locator(tck.MultipleLocator(base=np.pi))\n",
        "ax.xaxis.set_major_locator(tck.MultipleLocator(base=2*np.pi))\n",
        "ax.xaxis.set_major_formatter(tck.FuncFormatter(lambda x,pos: '%g $\\pi$'%(x/(np.pi))))\n",
        "plt.show()"
      ],
      "execution_count": 11,
      "outputs": [
        {
          "output_type": "display_data",
          "data": {
            "image/png": "[encoded data removed]",
            "text/plain": [
              "<Figure size 864x288 with 1 Axes>"
            ]
          },
          "metadata": {
            "tags": []
          }
        }
      ]
    },
    {
      "cell_type": "markdown",
      "metadata": {
        "lang": "en",
        "id": "2AqfHo7dQI1m",
        "colab_type": "text"
      },
      "source": [
        "### Results:\n",
        "\n",
        "Averages calculated from the $P(x)$ (`u`) distribution:"
      ]
    },
    {
      "cell_type": "code",
      "metadata": {
        "id": "o24-uEw5QI1m",
        "colab_type": "code",
        "colab": {
          "base_uri": "https://localhost:8080/",
          "height": 34
        },
        "outputId": "83d2676e-f282-4f8c-b3c9-ddb2fe0d9756"
      },
      "source": [
        "print ('t=',dt*Nsteps,\"v =\", np.sum(X*u)*h/(dt*Nsteps), \"  Deff =\",(h*np.sum((X-np.sum(X*u)*h)**2*u))/(2*dt*Nsteps) )"
      ],
      "execution_count": 12,
      "outputs": [
        {
          "output_type": "stream",
          "text": [
            "t= 250.00100000400002 v = 0.17097442883440386   Deff = 0.18405249503901214\n"
          ],
          "name": "stdout"
        }
      ]
    },
    {
      "cell_type": "markdown",
      "metadata": {
        "lang": "en",
        "id": "wtKChoGFQI1o",
        "colab_type": "text"
      },
      "source": [
        "Means after particles from the simulation of Langenvin equation:"
      ]
    },
    {
      "cell_type": "code",
      "metadata": {
        "id": "X1_BfTbCQI1p",
        "colab_type": "code",
        "colab": {
          "base_uri": "https://localhost:8080/",
          "height": 34
        },
        "outputId": "2124aa7b-b510-47db-e0a1-059f955db455"
      },
      "source": [
        "print('t=',nsteps*dt_mc,\"v =\", np.mean(x)/(nsteps*dt_mc), \"  Deff =\",np.var(x)/(2*nsteps*dt_mc))"
      ],
      "execution_count": 13,
      "outputs": [
        {
          "output_type": "stream",
          "text": [
            "t= 250.0 v = 0.17063092500166982   Deff = 0.18389516114666096\n"
          ],
          "name": "stdout"
        }
      ]
    },
    {
      "cell_type": "markdown",
      "metadata": {
        "lang": "en",
        "id": "GPjemDJsQI1r",
        "colab_type": "text"
      },
      "source": [
        "## How to implement  SDE on CUDA"
      ]
    },
    {
      "cell_type": "code",
      "metadata": {
        "id": "a1wpvI9RQI1r",
        "colab_type": "code",
        "colab": {
          "base_uri": "https://localhost:8080/",
          "height": 476
        },
        "outputId": "d6a33432-819a-47af-ffbe-197690c620d0"
      },
      "source": [
        "import numpy as np\n",
        "from pycuda.compiler import SourceModule\n",
        "from pycuda import gpuarray\n",
        "import pycuda.driver as cuda\n",
        "import pycuda \n",
        "\n",
        "cuda.init()\n",
        "device = cuda.Device(0)\n",
        "ctx = device.make_context()\n",
        "\n",
        "code = \"\"\"\n",
        "#include <curand_kernel.h>\n",
        "\n",
        "extern \"C\" {\n",
        "    __global__ void setup_kernel(curandState *state)\n",
        "    {\n",
        "        int id = threadIdx.x + blockIdx.x * blockDim.x;\n",
        "        curand_init(1234, id, 0, &state[id]);\n",
        "    }\n",
        "\n",
        "\n",
        "__global__ void step_sde(curandState *state, %(pf)s x_global)\n",
        "    {\n",
        "        int idx = threadIdx.x + blockIdx.x * blockDim.x;\n",
        "        %(f)s x = x_global[idx];\n",
        "        curandState localState = state[idx];\n",
        "       \n",
        "       \n",
        "        x =  curand_normal(&localState);  \n",
        "        \n",
        "        state[idx] = localState;\n",
        "        x_global[idx] = x;\n",
        "}\n",
        "\n",
        "\n",
        "}\n",
        "\"\"\"%{'fx':f_code,'dt':dt,'f':fp,'pf':pfp}\n",
        "block_size = 128\n",
        "N = 1000*block_size\n",
        "mod = SourceModule(code, no_extern_c=True)\n",
        "\n",
        "setup_kernel = mod.get_function(\"setup_kernel\")\n",
        "step_sde = mod.get_function(\"step_sde\")\n",
        "print(code)"
      ],
      "execution_count": 14,
      "outputs": [
        {
          "output_type": "stream",
          "text": [
            "\n",
            "#include <curand_kernel.h>\n",
            "\n",
            "extern \"C\" {\n",
            "    __global__ void setup_kernel(curandState *state)\n",
            "    {\n",
            "        int id = threadIdx.x + blockIdx.x * blockDim.x;\n",
            "        curand_init(1234, id, 0, &state[id]);\n",
            "    }\n",
            "\n",
            "\n",
            "__global__ void step_sde(curandState *state, float *  x_global)\n",
            "    {\n",
            "        int idx = threadIdx.x + blockIdx.x * blockDim.x;\n",
            "        float  x = x_global[idx];\n",
            "        curandState localState = state[idx];\n",
            "       \n",
            "       \n",
            "        x =  curand_normal(&localState);  \n",
            "        \n",
            "        state[idx] = localState;\n",
            "        x_global[idx] = x;\n",
            "}\n",
            "\n",
            "\n",
            "}\n",
            "\n"
          ],
          "name": "stdout"
        }
      ]
    },
    {
      "cell_type": "code",
      "metadata": {
        "id": "QYtfPE5qQI1t",
        "colab_type": "code",
        "colab": {
          "base_uri": "https://localhost:8080/",
          "height": 51
        },
        "outputId": "18853493-c9e4-4264-d310-a23fb5ceded2"
      },
      "source": [
        "# 7s for 1mln generators \n",
        "rng_states = cuda.mem_alloc(N*pycuda.characterize.sizeof('curandState', '#include <curand_kernel.h>'))\n",
        "setup_kernel(rng_states, block=(block_size,1,1), grid=(N//block_size,1))\n",
        "%time ctx.synchronize()"
      ],
      "execution_count": 15,
      "outputs": [
        {
          "output_type": "stream",
          "text": [
            "CPU times: user 5.03 ms, sys: 5 ms, total: 10 ms\n",
            "Wall time: 10 ms\n"
          ],
          "name": "stdout"
        }
      ]
    },
    {
      "cell_type": "code",
      "metadata": {
        "id": "v5M7UsvYQI1v",
        "colab_type": "code",
        "colab": {}
      },
      "source": [
        "x = gpuarray.zeros(N, dtype=np_prec)"
      ],
      "execution_count": 0,
      "outputs": []
    },
    {
      "cell_type": "code",
      "metadata": {
        "id": "20Z34Q81QI1x",
        "colab_type": "code",
        "colab": {}
      },
      "source": [
        "x.dtype"
      ],
      "execution_count": 0,
      "outputs": []
    },
    {
      "cell_type": "code",
      "metadata": {
        "id": "Tv92IWCWQI1z",
        "colab_type": "code",
        "colab": {
          "base_uri": "https://localhost:8080/",
          "height": 51
        },
        "outputId": "446c26af-405c-485d-dd3f-eb28a50b753d"
      },
      "source": [
        "step_sde(rng_states,  x, block=(block_size,1,1), grid=(N//block_size,1,1))\n",
        "%time ctx.synchronize()\n"
      ],
      "execution_count": 18,
      "outputs": [
        {
          "output_type": "stream",
          "text": [
            "CPU times: user 46 µs, sys: 1e+03 ns, total: 47 µs\n",
            "Wall time: 52.5 µs\n"
          ],
          "name": "stdout"
        }
      ]
    },
    {
      "cell_type": "code",
      "metadata": {
        "id": "JbZkNhx4QI11",
        "colab_type": "code",
        "colab": {
          "base_uri": "https://localhost:8080/",
          "height": 51
        },
        "outputId": "c05ed301-7716-4204-ff7b-79fab992a6af"
      },
      "source": [
        "x.get()[:6]"
      ],
      "execution_count": 19,
      "outputs": [
        {
          "output_type": "execute_result",
          "data": {
            "text/plain": [
              "array([ 0.7809736 , -0.2808487 , -1.0113329 ,  1.4583255 , -0.14857632,\n",
              "       -0.00414821], dtype=float32)"
            ]
          },
          "metadata": {
            "tags": []
          },
          "execution_count": 19
        }
      ]
    },
    {
      "cell_type": "code",
      "metadata": {
        "id": "4v3TJz23QI15",
        "colab_type": "code",
        "colab": {
          "base_uri": "https://localhost:8080/",
          "height": 269
        },
        "outputId": "76faa67a-9a84-4943-8042-8dc27b47979b"
      },
      "source": [
        "plt.figure()\n",
        "plt.hist(x.get(),bins=200)\n",
        "plt.show()"
      ],
      "execution_count": 20,
      "outputs": [
        {
          "output_type": "display_data",
          "data": {
            "image/png": "[encoded data removed]",
            "text/plain": [
              "<Figure size 432x288 with 1 Axes>"
            ]
          },
          "metadata": {
            "tags": []
          }
        }
      ]
    },
    {
      "cell_type": "markdown",
      "metadata": {
        "id": "GUi04qyNQI18",
        "colab_type": "text"
      },
      "source": [
        "\\newpage"
      ]
    }
  ]
}